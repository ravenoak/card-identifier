{
 "cells": [
  {
   "cell_type": "code",
   "execution_count": 18,
   "metadata": {
    "collapsed": true
   },
   "outputs": [],
   "source": [
    "from PIL import Image\n",
    "\n",
    "\n",
    "BLANK_CANVAS_SIZE = (500, 500)"
   ]
  },
  {
   "cell_type": "code",
   "execution_count": 19,
   "outputs": [],
   "source": [
    "bg_color = (100, 10, 130)\n",
    "bg = Image.new(\"RGB\", BLANK_CANVAS_SIZE, bg_color)\n",
    "\n",
    "image = Image.open(\"../data/images/originals/base1-1.png\")\n",
    "\n",
    "rot = image.rotate(30, expand=True, fillcolor=bg_color)\n",
    "\n",
    "bg.paste(rot, (-150, -150))\n",
    "\n",
    "bg.show()"
   ],
   "metadata": {
    "collapsed": false,
    "pycharm": {
     "name": "#%%\n"
    }
   }
  }
 ],
 "metadata": {
  "kernelspec": {
   "display_name": "Python 3",
   "language": "python",
   "name": "python3"
  },
  "language_info": {
   "codemirror_mode": {
    "name": "ipython",
    "version": 2
   },
   "file_extension": ".py",
   "mimetype": "text/x-python",
   "name": "python",
   "nbconvert_exporter": "python",
   "pygments_lexer": "ipython2",
   "version": "2.7.6"
  }
 },
 "nbformat": 4,
 "nbformat_minor": 0
}